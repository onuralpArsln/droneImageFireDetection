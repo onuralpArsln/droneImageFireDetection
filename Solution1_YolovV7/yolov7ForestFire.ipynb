{
 "cells": [
  {
   "cell_type": "markdown",
   "metadata": {},
   "source": [
    "A dataset is created from video\n",
    "\n",
    "marked with roboflow \n",
    "\n",
    "augmented with blurred added noise shear and rotation\n",
    "\n",
    "and images preapred for yolov7 and pytroch"
   ]
  }
 ],
 "metadata": {
  "language_info": {
   "name": "python"
  }
 },
 "nbformat": 4,
 "nbformat_minor": 2
}
