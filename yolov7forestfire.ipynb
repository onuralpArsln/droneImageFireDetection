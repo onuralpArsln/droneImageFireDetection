{
  "cells": [
    {
      "cell_type": "markdown",
      "metadata": {
        "id": "view-in-github",
        "colab_type": "text"
      },
      "source": [
        "<a href=\"https://colab.research.google.com/github/onuralpArsln/droneImageFireDetection/blob/main/yolov7forestfire.ipynb\" target=\"_parent\"><img src=\"https://colab.research.google.com/assets/colab-badge.svg\" alt=\"Open In Colab\"/></a>"
      ]
    },
    {
      "cell_type": "markdown",
      "metadata": {
        "id": "mJTNdmYtg0Qx"
      },
      "source": [
        "A dataset is created from video feed of forest fire.\n",
        "\n",
        "Annoted with roboflow\n",
        "\n",
        "augmented with blurred added noise shear and rotation on roboflow\n",
        "\n",
        "and images preapred for yolov7 and pytroch"
      ]
    },
    {
      "cell_type": "markdown",
      "source": [
        "# Step0: setup colab notebook env\n",
        "\n",
        "\n",
        "Get Yolo Model that will be used\n",
        "\n"
      ],
      "metadata": {
        "id": "VNabvfvshBzq"
      }
    },
    {
      "cell_type": "code",
      "source": [
        "\n",
        "\n",
        "# Download YOLOv7 repository and install requirements\n",
        "!git clone https://github.com/WongKinYiu/yolov7\n",
        "%cd yolov7\n",
        "!pip install  -q -r requirements.txt\n",
        "#-q to make it non verbose"
      ],
      "metadata": {
        "id": "9GLVdF66g9Ad"
      },
      "execution_count": null,
      "outputs": []
    },
    {
      "cell_type": "code",
      "source": [
        "\n",
        "# model indir\n",
        "%cd /content/yolov7\n",
        "!wget https://github.com/WongKinYiu/yolov7/releases/download/v0.1/yolov7_training.pt"
      ],
      "metadata": {
        "id": "jXfVFl3hhVqw"
      },
      "execution_count": null,
      "outputs": []
    },
    {
      "cell_type": "code",
      "source": [
        "# Imports that will be usefull\n",
        "import torch\n",
        "from IPython.display import Image  # for displaying images\n",
        "import os\n",
        "import random\n",
        "import shutil\n",
        "from sklearn.model_selection import train_test_split\n",
        "import xml.etree.ElementTree as ET\n",
        "from xml.dom import minidom\n",
        "from tqdm import tqdm\n",
        "from PIL import Image, ImageDraw\n",
        "import numpy as np\n",
        "import matplotlib.pyplot as plt\n",
        "\n",
        "\n",
        "random.seed(108)"
      ],
      "metadata": {
        "id": "W37gf0JuhdMd"
      },
      "execution_count": null,
      "outputs": []
    },
    {
      "cell_type": "markdown",
      "source": [
        "## Dataset"
      ],
      "metadata": {
        "id": "QlAvGL5GhiT9"
      }
    },
    {
      "cell_type": "code",
      "source": [
        "\n",
        "%cd /content/yolov7\n",
        "!mkdir Forest_Fire_Dataset\n",
        "!cd Forest_Fire_Dataset"
      ],
      "metadata": {
        "id": "qEqG2dgJhiJ3"
      },
      "execution_count": null,
      "outputs": []
    }
  ],
  "metadata": {
    "language_info": {
      "name": "python"
    },
    "colab": {
      "provenance": [],
      "include_colab_link": true
    }
  },
  "nbformat": 4,
  "nbformat_minor": 0
}